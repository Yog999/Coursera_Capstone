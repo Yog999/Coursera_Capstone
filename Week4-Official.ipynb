{
 "cells": [
  {
   "cell_type": "markdown",
   "metadata": {},
   "source": [
    "<h1>Applied Data Science Capstone with IBM</h1>"
   ]
  },
  {
   "cell_type": "markdown",
   "metadata": {},
   "source": [
    "<h2>Plan a route for a mobile restaurant, Canada</h2>"
   ]
  },
  {
   "cell_type": "markdown",
   "metadata": {},
   "source": [
    "<h3>By: Yves Godbout</h3>"
   ]
  },
  {
   "cell_type": "markdown",
   "metadata": {},
   "source": [
    "<h3>Introduction</h3>\n",
    "\n",
    "\n",
    "Laval is a charming city very close to Montreal, in Canada. It has benefited from significant real estate and commercial development due to its proximity to the big city. It is good to live there since Laval does not experience the same traffic challenges and infrastructure problems as Montreal.\n",
    "There are major shopping centers and enviable commercial avenues. Now suppose we have a mobile restaurant that mainly serves beaver tails (which is a delicious Canadian pastry). The mobile restaurant market is not yet very developed in Laval, (while in Montreal, it is saturated) so we want to take the opportunity to take our place.\n",
    "But we must choose one or more strategic places where it would be most appropriate to install our vehicle. So let's explore Laval's data via Foursquare.\n"
   ]
  },
  {
   "cell_type": "markdown",
   "metadata": {},
   "source": [
    "<h3>Business Problem</h3>\n",
    "\n",
    "All populous places are generally well surrounded by restaurants. Shopping centers already have food courts and competition is very important. Travel can be laborious. I would like to maximize my stops to reach the maximum number of customers. Currently, we do not know where we are focusing and we do not have an overview of the shops in the city.\n",
    "\n",
    "It’s not about running away from other restaurants. Beaver tails can be a great addition to a tedious meal. So we would like to stick close to certain restaurants, but not those that would compete with us (such as cafes or dessert places). Likewise, we are not looking to stick close to a health center (gym).\n",
    "\n",
    "In short, we are trying to reach as many people as possible. To do this, visibility must be excellent. In addition, children will love these pastries."
   ]
  },
  {
   "cell_type": "markdown",
   "metadata": {},
   "source": [
    "<h3>Target audience of this project</h3>\n",
    "\n",
    "Any mobile restaurant entrepreneur looking for a solution in a city he knows little about.\n"
   ]
  },
  {
   "cell_type": "markdown",
   "metadata": {},
   "source": [
    "<h3>Data Overview and requirement</h3>\n",
    "\n",
    "For this assignment, I will be utilizing the Foursquare API to pull the following location data on commerces in Laval.\n",
    "\n",
    "In this case, we will need these values :\n",
    "\n",
    "•\tVenue Name\n",
    "•\tVenue ID\n",
    "•\tVenue Location\n",
    "•\tVenue Category\n",
    "•\tCount of Likes\n"
   ]
  },
  {
   "cell_type": "markdown",
   "metadata": {},
   "source": [
    "<h3>Methodology and data acquisition approach</h3>\n",
    "\n",
    "<h4>To obtain the necessary data, here are the steps that will be taken:</h4>\n",
    "    \n",
    "    •\tGet geolocator latitude and longitude coordinates for Laval, Canada ;\n",
    "    •\tUse Foursquare API to get a list of all venues in Laval ;\n",
    "    •\tVenue data, particularly data related to shopping malls. We will use this data to perform clustering on the neighbourhoods, venue.name, venue.id, venue.categories, venue.location.lat, venue.location.lng ;\n",
    "    •\tPull menu and count of likes for each venue ;\n",
    "    •\tI'm going to mix all of this and probably filter out a few businesses and group together a few to make it easier to read.\n",
    "    \n",
    "I will take the data collected and create a dynamic of k-means which groups businesses in 3 clusters. That way, I should be able to illustrate my results in a table and under a map and so the results will be easier to read and hopefully the solution more obvious.\n"
   ]
  }
 ],
 "metadata": {
  "kernelspec": {
   "display_name": "Python",
   "language": "python",
   "name": "conda-env-python-py"
  },
  "language_info": {
   "codemirror_mode": {
    "name": "ipython",
    "version": 3
   },
   "file_extension": ".py",
   "mimetype": "text/x-python",
   "name": "python",
   "nbconvert_exporter": "python",
   "pygments_lexer": "ipython3",
   "version": "3.6.7"
  }
 },
 "nbformat": 4,
 "nbformat_minor": 4
}
